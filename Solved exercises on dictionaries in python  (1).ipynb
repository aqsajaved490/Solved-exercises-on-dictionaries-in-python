{
 "cells": [
  {
   "cell_type": "code",
   "execution_count": 11,
   "id": "012b0fdf-ae51-458e-91e1-fee8b5a1c93e",
   "metadata": {},
   "outputs": [
    {
     "name": "stdout",
     "output_type": "stream",
     "text": [
      "{'name': 'Aqsa Javed', 'age': 19, 'city': 'Lahore', 'hobbies': ['Sleeping', 'traveling', 'Sketching']}\n"
     ]
    }
   ],
   "source": [
    "# Creating a dictionary to store information about a person\n",
    "person_info = {\n",
    "    \"name\": \"Aqsa Javed\",\n",
    "    \"age\": 19,\n",
    "    \"city\": \"Lahore\",\n",
    "    \"hobbies\": [\"Sleeping\", \"traveling\", \"Sketching\"]\n",
    "}\n",
    "\n",
    "# Printing the dictionary\n",
    "print(person_info)\n"
   ]
  },
  {
   "cell_type": "code",
   "execution_count": 7,
   "id": "42a5cb4c-4a60-47c3-ade5-dd6a5508b4e7",
   "metadata": {},
   "outputs": [
    {
     "name": "stdout",
     "output_type": "stream",
     "text": [
      "{'learning': 1, 'python': 2, 'is': 2, 'fun': 1, 'a': 1, 'versatile': 1, 'programming': 1, 'language': 1}\n"
     ]
    }
   ],
   "source": [
    "# Function to count word frequency\n",
    "def count_word_frequency(text):\n",
    "    text = text.lower()\n",
    "    for char in \",.?!;:\":\n",
    "        text = text.replace(char, \"\")\n",
    "    words = text.split()\n",
    "    word_count = {}\n",
    "    \n",
    "    for word in words:\n",
    "        if word in word_count:\n",
    "            word_count[word] += 1\n",
    "        else:\n",
    "            word_count[word] = 1\n",
    "    \n",
    "    return word_count\n",
    "text = \"Learning Python is fun. Python is a versatile programming language.\"\n",
    "word_frequencies = count_word_frequency(text)\n",
    "print(word_frequencies)\n"
   ]
  },
  {
   "cell_type": "code",
   "execution_count": 9,
   "id": "6f35a2d6-1017-48b3-be81-4449c50a21d3",
   "metadata": {},
   "outputs": [
    {
     "name": "stdout",
     "output_type": "stream",
     "text": [
      "10 Pen(s) added to the inventory.\n",
      "5 Notebook(s) added to the inventory.\n",
      "\n",
      "Current Inventory:\n",
      "Pen: 10\n",
      "Notebook: 5\n",
      "3 Pen(s) removed from the inventory.\n",
      "5 Notebook(s) removed from the inventory.\n",
      "\n",
      "Current Inventory:\n",
      "Pen: 7\n"
     ]
    }
   ],
   "source": [
    "# Inventory system\n",
    "inventory = {}\n",
    "def add_item(item, quantity):\n",
    "    inventory[item] = inventory.get(item, 0) + quantity\n",
    "    print(f\"{quantity} {item}(s) added to the inventory.\")\n",
    "def remove_item(item, quantity):\n",
    "    if item in inventory and inventory[item] >= quantity:\n",
    "        inventory[item] -= quantity\n",
    "        print(f\"{quantity} {item}(s) removed from the inventory.\")\n",
    "        if inventory[item] == 0:\n",
    "            del inventory[item]\n",
    "    else:\n",
    "        print(f\"Not enough {item}(s) in the inventory to remove.\")\n",
    "def view_inventory():\n",
    "    print(\"\\nCurrent Inventory:\")\n",
    "    for item, quantity in inventory.items():\n",
    "        print(f\"{item}: {quantity}\")\n",
    "    if not inventory:\n",
    "        print(\"Inventory is empty.\")\n",
    "add_item(\"Pen\", 10)\n",
    "add_item(\"Notebook\", 5)\n",
    "\n",
    "view_inventory()\n",
    "\n",
    "remove_item(\"Pen\", 3)\n",
    "remove_item(\"Notebook\", 5)\n",
    "\n",
    "view_inventory()\n"
   ]
  },
  {
   "cell_type": "code",
   "execution_count": 13,
   "id": "b2f9e1dc-efc6-42e0-adb8-8d9f5bc3ca0b",
   "metadata": {},
   "outputs": [
    {
     "name": "stdout",
     "output_type": "stream",
     "text": [
      "Most popular category: Electronics\n"
     ]
    }
   ],
   "source": [
    "# (d) Analyze a dataset of customer orders to find the most popular product category.\n",
    "# Sample dataset\n",
    "orders = [\n",
    "    {\"order_id\": 1, \"product\": \"Laptop\", \"category\": \"Electronics\"},\n",
    "    {\"order_id\": 2, \"product\": \"Phone\", \"category\": \"Electronics\"},\n",
    "    {\"order_id\": 3, \"product\": \"Shoes\", \"category\": \"Fashion\"},\n",
    "    {\"order_id\": 4, \"product\": \"Shirt\", \"category\": \"Fashion\"},\n",
    "    {\"order_id\": 5, \"product\": \"Laptop\", \"category\": \"Electronics\"},\n",
    "]\n",
    "\n",
    "def most_popular_category(orders):\n",
    "    category_count = {}\n",
    "    \n",
    "    for order in orders:\n",
    "        category = order[\"category\"]\n",
    "        if category in category_count:\n",
    "            category_count[category] += 1\n",
    "        else:\n",
    "            category_count[category] = 1\n",
    "    popular_category = max(category_count, key=category_count.get)\n",
    "    return popular_category\n",
    "\n",
    "print(\"Most popular category:\", most_popular_category(orders))"
   ]
  },
  {
   "cell_type": "code",
   "execution_count": 15,
   "id": "0a7535cb-a3dc-4735-85a6-44e6e2c93831",
   "metadata": {},
   "outputs": [
    {
     "name": "stdout",
     "output_type": "stream",
     "text": [
      "Student Grades:\n",
      "Alice: 85\n",
      "Bob: 78\n",
      "Charlie: 92\n",
      "Diana: 88\n",
      "Eve: 95\n",
      "\n",
      "Average Grade: 87.60\n"
     ]
    }
   ],
   "source": [
    "# Dictionary to store student grades\n",
    "student_grades = {\n",
    "    \"Alice\": 85,\n",
    "    \"Bob\": 78,\n",
    "    \"Charlie\": 92,\n",
    "    \"Diana\": 88,\n",
    "    \"Eve\": 95\n",
    "}\n",
    "total_grades = sum(student_grades.values())\n",
    "average_grade = total_grades / len(student_grades)\n",
    "print(\"Student Grades:\")\n",
    "for student, grade in student_grades.items():\n",
    "    print(f\"{student}: {grade}\")\n",
    "\n",
    "print(f\"\\nAverage Grade: {average_grade:.2f}\")\n"
   ]
  },
  {
   "cell_type": "code",
   "execution_count": 17,
   "id": "7a29276e-3f14-4c35-85f7-54d668d41e1b",
   "metadata": {},
   "outputs": [
    {
     "name": "stdout",
     "output_type": "stream",
     "text": [
      "Product 'Laptop' added to inventory.\n",
      "Product 'Mouse' added to inventory.\n",
      "Product 'Keyboard' added to inventory.\n",
      "Product 'Monitor' added to inventory.\n",
      "Updated quantity of 'Keyboard' to 10.\n",
      "Product ID 105 not found.\n",
      "\n",
      "Total inventory value: $9600.00\n",
      "\n",
      "Low-stock items (threshold: 5 ):\n",
      "Monitor (ID: 104) - Quantity: 2\n"
     ]
    }
   ],
   "source": [
    "# Inventory system as a dictionary\n",
    "inventory = {}\n",
    "def add_product(product_id, name, quantity, price):\n",
    "    if product_id in inventory:\n",
    "        print(f\"Product ID {product_id} already exists. Use update_quantity to update it.\")\n",
    "    else:\n",
    "        inventory[product_id] = {\"name\": name, \"quantity\": quantity, \"price\": price}\n",
    "        print(f\"Product '{name}' added to inventory.\")\n",
    "def update_quantity(product_id, quantity):\n",
    "    if product_id in inventory:\n",
    "        inventory[product_id][\"quantity\"] += quantity\n",
    "        print(f\"Updated quantity of '{inventory[product_id]['name']}' to {inventory[product_id]['quantity']}.\")\n",
    "    else:\n",
    "        print(f\"Product ID {product_id} not found.\")\n",
    "def calculate_total_value():\n",
    "    total_value = sum(item[\"quantity\"] * item[\"price\"] for item in inventory.values())\n",
    "    print(f\"\\nTotal inventory value: ${total_value:.2f}\")\n",
    "    return total_value\n",
    "\n",
    "# Function to generate a report of low-stock items\n",
    "def low_stock_report(threshold=5):\n",
    "    print(\"\\nLow-stock items (threshold:\", threshold, \"):\")\n",
    "    low_stock_items = {pid: info for pid, info in inventory.items() if info[\"quantity\"] <= threshold}\n",
    "    if low_stock_items:\n",
    "        for pid, info in low_stock_items.items():\n",
    "            print(f\"{info['name']} (ID: {pid}) - Quantity: {info['quantity']}\")\n",
    "    else:\n",
    "        print(\"No low-stock items.\")\n",
    "\n",
    "# Using the inventory management syste\n",
    "add_product(101, \"Laptop\", 10, 800)\n",
    "add_product(102, \"Mouse\", 50, 20)\n",
    "add_product(103, \"Keyboard\", 4, 30)\n",
    "add_product(104, \"Monitor\", 2, 150)\n",
    "\n",
    "update_quantity(103, 6)\n",
    "update_quantity(105, 10) \n",
    "\n",
    "calculate_total_value()\n",
    "\n",
    "low_stock_report()\n"
   ]
  },
  {
   "cell_type": "code",
   "execution_count": 19,
   "id": "15497526-f4c9-40ee-8e01-12579de53b43",
   "metadata": {},
   "outputs": [
    {
     "name": "stdout",
     "output_type": "stream",
     "text": [
      "Alice: 88.33333333333333\n",
      "Bob: 79.33333333333333\n",
      "Charlie: 89.0\n",
      "Highest grade in math: Charlie, Lowest grade in math: Bob\n",
      "Students sorted by average grade: ['Charlie', 'Alice', 'Bob']\n"
     ]
    }
   ],
   "source": [
    "students = {\n",
    "    \"Alice\": {\"math\": 85, \"science\": 92, \"english\": 88},\n",
    "    \"Bob\": {\"math\": 78, \"science\": 81, \"english\": 79},\n",
    "    \"Charlie\": {\"math\": 90, \"science\": 85, \"english\": 92}\n",
    "}\n",
    "\n",
    "def average_grade(grades):\n",
    "    return sum(grades.values()) / len(grades)\n",
    "\n",
    "def highest_and_lowest_grade(subject):\n",
    "    grades = {student: data[subject] for student, data in students.items()}\n",
    "    highest = max(grades, key=grades.get)\n",
    "    lowest = min(grades, key=grades.get)\n",
    "    return highest, lowest\n",
    "\n",
    "# Calculate average grade for each student\n",
    "for student, grades in students.items():\n",
    "    print(f\"{student}: {average_grade(grades)}\")\n",
    "\n",
    "# Find highest and lowest grade in math\n",
    "highest, lowest = highest_and_lowest_grade(\"math\")\n",
    "print(f\"Highest grade in math: {highest}, Lowest grade in math: {lowest}\")\n",
    "\n",
    "# Sort students by average grade\n",
    "sorted_students = sorted(students.items(), key=lambda x: average_grade(x[1]), reverse=True)\n",
    "print(\"Students sorted by average grade:\", [student[0] for student in sorted_students])"
   ]
  },
  {
   "cell_type": "code",
   "execution_count": 21,
   "id": "e05ccdc4-6ddc-4a25-a5f9-010552ddc91d",
   "metadata": {},
   "outputs": [
    {
     "name": "stdout",
     "output_type": "stream",
     "text": [
      "Added 2 Laptop(s) to the cart.\n",
      "Added 5 Mouse(s) to the cart.\n",
      "Removed 2 Mouse(s) from the cart.\n",
      "\n",
      "Your Shopping Cart:\n",
      "Laptop (ID: 101) - $800 x 2\n",
      "Mouse (ID: 102) - $20 x 3\n",
      "\n",
      "Subtotal: $1660.00\n",
      "Discount: $166.00\n",
      "Tax: $119.52\n",
      "Total: $1613.52\n"
     ]
    },
    {
     "data": {
      "text/plain": [
       "1613.52"
      ]
     },
     "execution_count": 21,
     "metadata": {},
     "output_type": "execute_result"
    }
   ],
   "source": [
    "# Product catalog\n",
    "products = {\n",
    "    101: {\"name\": \"Laptop\", \"price\": 800, \"quantity\": 10},\n",
    "    102: {\"name\": \"Mouse\", \"price\": 20, \"quantity\": 50},\n",
    "    103: {\"name\": \"Keyboard\", \"price\": 30, \"quantity\": 30},\n",
    "    104: {\"name\": \"Monitor\", \"price\": 150, \"quantity\": 15},\n",
    "}\n",
    "\n",
    "# Shopping cart\n",
    "cart = {}\n",
    "\n",
    "# Add product to cart\n",
    "def add_to_cart(product_id, quantity):\n",
    "    if product_id in products:\n",
    "        if products[product_id][\"quantity\"] >= quantity:\n",
    "            if product_id in cart:\n",
    "                cart[product_id][\"quantity\"] += quantity\n",
    "            else:\n",
    "                cart[product_id] = {\n",
    "                    \"name\": products[product_id][\"name\"],\n",
    "                    \"price\": products[product_id][\"price\"],\n",
    "                    \"quantity\": quantity,\n",
    "                }\n",
    "            products[product_id][\"quantity\"] -= quantity\n",
    "            print(f\"Added {quantity} {products[product_id]['name']}(s) to the cart.\")\n",
    "        else:\n",
    "            print(f\"Not enough stock for {products[product_id]['name']}.\")\n",
    "    else:\n",
    "        print(\"Invalid product ID.\")\n",
    "\n",
    "# Remove product from cart\n",
    "def remove_from_cart(product_id, quantity):\n",
    "    if product_id in cart:\n",
    "        if cart[product_id][\"quantity\"] >= quantity:\n",
    "            cart[product_id][\"quantity\"] -= quantity\n",
    "            products[product_id][\"quantity\"] += quantity\n",
    "            print(f\"Removed {quantity} {cart[product_id]['name']}(s) from the cart.\")\n",
    "            if cart[product_id][\"quantity\"] == 0:\n",
    "                del cart[product_id]\n",
    "        else:\n",
    "            print(f\"You don't have that many {cart[product_id]['name']}(s) in your cart.\")\n",
    "    else:\n",
    "        print(\"Product not in cart.\")\n",
    "\n",
    "# Calculate total cost\n",
    "def calculate_total(discount=0, tax=0.1):\n",
    "    total = sum(item[\"price\"] * item[\"quantity\"] for item in cart.values())\n",
    "    discount_amount = total * (discount / 100)\n",
    "    tax_amount = (total - discount_amount) * tax\n",
    "    final_total = total - discount_amount + tax_amount\n",
    "    print(f\"\\nSubtotal: ${total:.2f}\")\n",
    "    print(f\"Discount: ${discount_amount:.2f}\")\n",
    "    print(f\"Tax: ${tax_amount:.2f}\")\n",
    "    print(f\"Total: ${final_total:.2f}\")\n",
    "    return final_total\n",
    "\n",
    "# Display cart\n",
    "def view_cart():\n",
    "    print(\"\\nYour Shopping Cart:\")\n",
    "    if not cart:\n",
    "        print(\"Cart is empty.\")\n",
    "    else:\n",
    "        for product_id, details in cart.items():\n",
    "            print(\n",
    "                f\"{details['name']} (ID: {product_id}) - ${details['price']} x {details['quantity']}\"\n",
    "            )\n",
    "\n",
    "# Using the e-commerce store\n",
    "add_to_cart(101, 2)  # Add 2 laptops\n",
    "add_to_cart(102, 5)  # Add 5 mice\n",
    "remove_from_cart(102, 2)  # Remove 2 mice\n",
    "view_cart()\n",
    "calculate_total(discount=10, tax=0.08)  # Apply 10% discount and 8% tax\n"
   ]
  },
  {
   "cell_type": "code",
   "execution_count": null,
   "id": "021b166f-0a8e-4e95-94a5-f1ebf312366f",
   "metadata": {},
   "outputs": [],
   "source": []
  }
 ],
 "metadata": {
  "kernelspec": {
   "display_name": "Python 3 (ipykernel)",
   "language": "python",
   "name": "python3"
  },
  "language_info": {
   "codemirror_mode": {
    "name": "ipython",
    "version": 3
   },
   "file_extension": ".py",
   "mimetype": "text/x-python",
   "name": "python",
   "nbconvert_exporter": "python",
   "pygments_lexer": "ipython3",
   "version": "3.12.7"
  }
 },
 "nbformat": 4,
 "nbformat_minor": 5
}
